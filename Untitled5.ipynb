{
  "nbformat": 4,
  "nbformat_minor": 0,
  "metadata": {
    "colab": {
      "name": "Untitled1.ipynb",
      "provenance": [],
      "collapsed_sections": [],
      "authorship_tag": "ABX9TyPEo6vCWIe9Bn46OL9aTKd+",
      "include_colab_link": true
    },
    "kernelspec": {
      "name": "python3",
      "display_name": "Python 3"
    },
    "language_info": {
      "name": "python"
    }
  },
  "cells": [
    {
      "cell_type": "markdown",
      "metadata": {
        "id": "view-in-github",
        "colab_type": "text"
      },
      "source": [
        "<a href=\"https://colab.research.google.com/github/rakhiku/my_1st_project/blob/main/Untitled5.ipynb\" target=\"_parent\"><img src=\"https://colab.research.google.com/assets/colab-badge.svg\" alt=\"Open In Colab\"/></a>"
      ]
    },
    {
      "cell_type": "code",
      "execution_count": 2,
      "metadata": {
        "colab": {
          "base_uri": "https://localhost:8080/"
        },
        "id": "9afW5MzYDGii",
        "outputId": "b355386e-ad0b-47d9-c646-e137961e32a3"
      },
      "outputs": [
        {
          "output_type": "stream",
          "name": "stdout",
          "text": [
            "Collecting pyspark\n",
            "  Downloading pyspark-3.2.1.tar.gz (281.4 MB)\n",
            "\u001b[K     |████████████████████████████████| 281.4 MB 34 kB/s \n",
            "\u001b[?25hCollecting py4j==0.10.9.3\n",
            "  Downloading py4j-0.10.9.3-py2.py3-none-any.whl (198 kB)\n",
            "\u001b[K     |████████████████████████████████| 198 kB 49.8 MB/s \n",
            "\u001b[?25hBuilding wheels for collected packages: pyspark\n",
            "  Building wheel for pyspark (setup.py) ... \u001b[?25l\u001b[?25hdone\n",
            "  Created wheel for pyspark: filename=pyspark-3.2.1-py2.py3-none-any.whl size=281853642 sha256=f5f31a5b9de99581251b17bb08585999db48a1fcf78911f6808b06e8e7b2a01a\n",
            "  Stored in directory: /root/.cache/pip/wheels/9f/f5/07/7cd8017084dce4e93e84e92efd1e1d5334db05f2e83bcef74f\n",
            "Successfully built pyspark\n",
            "Installing collected packages: py4j, pyspark\n",
            "Successfully installed py4j-0.10.9.3 pyspark-3.2.1\n"
          ]
        }
      ],
      "source": [
        "pip install pyspark"
      ]
    },
    {
      "cell_type": "code",
      "source": [
        ""
      ],
      "metadata": {
        "id": "cw2CSrEPG7O0"
      },
      "execution_count": null,
      "outputs": []
    },
    {
      "cell_type": "code",
      "source": [
        "from pyspark.sql import SparkSession\n",
        "spark = SparkSession.builder.appName(\"SparkByExamples.com\").getOrCreate()\n",
        "\n",
        "id_list=[1,2,3,4,5,6,7,8,9,10]\n",
        "name_list= [\"Rakhi\",\"Shreyas\",\"Amol\",\"Arjun\",\"Ajay\",\"mahesh\",\"Manish\",\"Ajit\",\"Rashi\",\"Rani\"]\n",
        "clg_list=['MIT','NMITE','IIT','JSPM','GP','DYP','MMIT','SISSMS','PCCOE','COEP']\n",
        "City_list=['Aurangabad','Talegao',\"Banglore\",'Pune','Beed','Latur','Lohagaon','Pune','Pimpari','Pune']\n",
        "columns = ('Id','Name','College','City')\n",
        "\n",
        "dataframe = spark.createDataFrame(zip(id_list, name_list,clg_list,City_list), columns)\n",
        "dataframe.show()\n",
        "\n"
      ],
      "metadata": {
        "id": "uc6356VWDheh",
        "colab": {
          "base_uri": "https://localhost:8080/"
        },
        "outputId": "7994d752-1e0b-48e5-aa74-bdecb17e3ec0"
      },
      "execution_count": 14,
      "outputs": [
        {
          "output_type": "stream",
          "name": "stdout",
          "text": [
            "+---+-------+-------+----------+\n",
            "| Id|   Name|College|      City|\n",
            "+---+-------+-------+----------+\n",
            "|  1|  Rakhi|    MIT|Aurangabad|\n",
            "|  2|Shreyas|  NMITE|   Talegao|\n",
            "|  3|   Amol|    IIT|  Banglore|\n",
            "|  4|  Arjun|   JSPM|      Pune|\n",
            "|  5|   Ajay|     GP|      Beed|\n",
            "|  6| mahesh|    DYP|     Latur|\n",
            "|  7| Manish|   MMIT|  Lohagaon|\n",
            "|  8|   Ajit| SISSMS|      Pune|\n",
            "|  9|  Rashi|  PCCOE|   Pimpari|\n",
            "| 10|   Rani|   COEP|      Pune|\n",
            "+---+-------+-------+----------+\n",
            "\n"
          ]
        }
      ]
    },
    {
      "cell_type": "code",
      "source": [
        ""
      ],
      "metadata": {
        "id": "U2YmqX7aLBqt"
      },
      "execution_count": null,
      "outputs": []
    }
  ]
}